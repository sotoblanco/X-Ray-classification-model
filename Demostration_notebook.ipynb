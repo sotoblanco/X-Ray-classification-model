{
 "cells": [
  {
   "cell_type": "code",
   "execution_count": null,
   "metadata": {},
   "outputs": [],
   "source": [
    "import requests\n",
    "#url  = \"https://i351f1yczb.execute-api.us-west-2.amazonaws.com/test/predict\""
   ]
  },
  {
   "cell_type": "code",
   "execution_count": 11,
   "metadata": {},
   "outputs": [],
   "source": [
    "def pred_service(image, url=\"https://i351f1yczb.execute-api.us-west-2.amazonaws.com/test/predict\"):\n",
    "    data = {\"url\": image}\n",
    "    result = requests.post(url, json=data).json()\n",
    "    print(result)"
   ]
  },
  {
   "attachments": {},
   "cell_type": "markdown",
   "metadata": {},
   "source": [
    "## This is a normal X-ray from a pediatric patient\n",
    "\n",
    "![image](https://user-images.githubusercontent.com/46135649/208242713-15db7a6c-7b54-4c8f-9945-ca05edce705e.png)"
   ]
  },
  {
   "cell_type": "code",
   "execution_count": 12,
   "metadata": {},
   "outputs": [
    {
     "name": "stdout",
     "output_type": "stream",
     "text": [
      "{'prediction': 'Normal'}\n"
     ]
    }
   ],
   "source": [
    "pred_service(\"https://user-images.githubusercontent.com/46135649/208242713-15db7a6c-7b54-4c8f-9945-ca05edce705e.png\")\n"
   ]
  },
  {
   "attachments": {},
   "cell_type": "markdown",
   "metadata": {},
   "source": [
    "## This is an image of a pediatric patient with bacterial pneumonia\n",
    "[Link to the article](https://emedicine.medscape.com/article/1926980-overview?icd=login_success_gg_mismatch_norm#a1)\n",
    "\n",
    "![image](https://img.medscapestatic.com/pi/meds/ckb/29/12429tn.jpg)"
   ]
  },
  {
   "cell_type": "code",
   "execution_count": 14,
   "metadata": {},
   "outputs": [
    {
     "name": "stdout",
     "output_type": "stream",
     "text": [
      "{'prediction': 'Normal'}\n"
     ]
    }
   ],
   "source": [
    "pred_service(\"https://img.medscapestatic.com/pi/meds/ckb/29/12429tn.jpg\")"
   ]
  },
  {
   "attachments": {},
   "cell_type": "markdown",
   "metadata": {},
   "source": [
    "## Same patient as above but with progression of the pneumonia\n",
    "\n",
    "![image](https://img.medscapestatic.com/pi/meds/ckb/30/12430tn.jpg)"
   ]
  },
  {
   "cell_type": "code",
   "execution_count": 13,
   "metadata": {},
   "outputs": [
    {
     "name": "stdout",
     "output_type": "stream",
     "text": [
      "{'prediction': 'Pneumonia'}\n"
     ]
    }
   ],
   "source": [
    "pred_service('https://img.medscapestatic.com/pi/meds/ckb/30/12430tn.jpg')"
   ]
  },
  {
   "attachments": {},
   "cell_type": "markdown",
   "metadata": {},
   "source": [
    "Now the model is able to interpreted the neumonia, this mean that the likelihood of this child of adquiring the pneumonia increase from below to 80% to above 80% and our threshold was able to classified as pneumonia"
   ]
  },
  {
   "attachments": {},
   "cell_type": "markdown",
   "metadata": {},
   "source": [
    "## This is an image of a pediatric patient with Pneumonia\n",
    "\n",
    "![image](https://user-images.githubusercontent.com/46135649/208268684-21e4ca4e-2115-44fe-886c-fe0fbaf0f02a.png)\n"
   ]
  },
  {
   "cell_type": "code",
   "execution_count": 16,
   "metadata": {},
   "outputs": [
    {
     "name": "stdout",
     "output_type": "stream",
     "text": [
      "{'prediction': 'Pneumonia'}\n"
     ]
    }
   ],
   "source": [
    "pred_service(\"https://user-images.githubusercontent.com/46135649/208268684-21e4ca4e-2115-44fe-886c-fe0fbaf0f02a.png\")"
   ]
  }
 ],
 "metadata": {
  "kernelspec": {
   "display_name": "py38",
   "language": "python",
   "name": "python3"
  },
  "language_info": {
   "codemirror_mode": {
    "name": "ipython",
    "version": 3
   },
   "file_extension": ".py",
   "mimetype": "text/x-python",
   "name": "python",
   "nbconvert_exporter": "python",
   "pygments_lexer": "ipython3",
   "version": "3.8.8 (default, Apr 13 2021, 15:08:03) [MSC v.1916 64 bit (AMD64)]"
  },
  "orig_nbformat": 4,
  "vscode": {
   "interpreter": {
    "hash": "fd6342ed8fd87fcfe97e5b7a43e77f629249c7e4ef1309d9fc6b6d337e1bf3ad"
   }
  }
 },
 "nbformat": 4,
 "nbformat_minor": 2
}
